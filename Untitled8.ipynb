{
 "cells": [
  {
   "cell_type": "code",
   "execution_count": 2,
   "id": "80ee14b5-9c43-4e61-b137-b2321c7c189f",
   "metadata": {},
   "outputs": [],
   "source": [
    "import sys\n",
    "import pandas as pd\n",
    "import numpy as np\n",
    "import matplotlib.pyplot as plt"
   ]
  },
  {
   "cell_type": "code",
   "execution_count": 3,
   "id": "833df963-b2fb-4fc2-b33e-e2f459328e12",
   "metadata": {},
   "outputs": [],
   "source": [
    "# the .txt files which store the data for the online recording of the sample mass\n",
    "path1 = \"C:\\Arbeit\\MikrowellenTr\\Schwindung\\\\test\""
   ]
  },
  {
   "cell_type": "code",
   "execution_count": 4,
   "id": "0f797d77-1c18-40a3-924c-c742265cadde",
   "metadata": {},
   "outputs": [],
   "source": [
    "# multiple recordings in the span of one experiment are combined into 1 dataframe\n",
    "dfs = []\n",
    "for i in range(3,11):\n",
    "    path2 = path1+str(i)+\".csv\"\n",
    "    dfs.append(pd.read_csv((path2),sep=\"\\t\",names=['date', 'time', 'mass']))\n",
    "dfs1 = pd.concat(dfs,ignore_index=True)"
   ]
  },
  {
   "cell_type": "code",
   "execution_count": 5,
   "id": "3e855834-fcf2-4ccb-9ccf-d48ceccbe7d1",
   "metadata": {},
   "outputs": [],
   "source": [
    "# the data for the sample mass is converted from its original \"string\" format to \"float\"\n",
    "# German numbers are stored with a \"comma (,)\" as the decimal separator and as \"string\"\n",
    "# the following loop converts said readings into float\n",
    "for i,k in enumerate(dfs1['mass']):\n",
    "    dfs1['mass'][i] = float(k[0:-3]+'.'+k[-2]+k[-1])"
   ]
  },
  {
   "cell_type": "code",
   "execution_count": 6,
   "id": "35cee294-072e-4a26-b520-d0a2fd296fd2",
   "metadata": {},
   "outputs": [],
   "source": [
    "# several readings are erroneous as the recording started before the sample was placed on the scale\n",
    "# these values are dropped from the dataframe and the index is reset\n",
    "dfs2 = dfs1.drop(index=dfs1['mass'][dfs1['mass']<1].index)\n",
    "dfs2 = dfs2.reset_index()\n",
    "dfs2 = dfs2.drop(columns='index')"
   ]
  },
  {
   "cell_type": "code",
   "execution_count": 7,
   "id": "e92da352-5fe1-4b8f-b02d-74c4d2e3a2d6",
   "metadata": {},
   "outputs": [
    {
     "data": {
      "text/plain": [
       "221057"
      ]
     },
     "execution_count": 7,
     "metadata": {},
     "output_type": "execute_result"
    }
   ],
   "source": [
    "len(dfs2)k"
   ]
  },
  {
   "cell_type": "code",
   "execution_count": 49,
   "id": "333b3891-73e9-4d77-930f-3bf78d4e23a4",
   "metadata": {},
   "outputs": [],
   "source": [
    "# the readings are recorded with the corresponding date & time stamps\n",
    "# these are combined to represent the unique timestamp for each reading\n",
    "dfs2['datetime'] = dfs2['date']+' '+dfs2['time']"
   ]
  },
  {
   "cell_type": "code",
   "execution_count": 58,
   "id": "ed089b6e-bbe3-4360-b2b1-867d2a0dd55f",
   "metadata": {},
   "outputs": [],
   "source": [
    "# the original dataframe is too large as the sample mass is recorded many times every second\n",
    "# in the following section only every unique reading of the sample mass is stored\n",
    "# the final timestamp for every unique reading will be stored using the maximum index for each unique reading\n",
    "mass_sorted = sorted(np.unique(dfs2['mass']),reverse=True)\n",
    "Indices = []\n",
    "for i,k in enumerate(mass_sorted):\n",
    "    Indices.append(np.max(dfs2['mass'][dfs2['mass']==k].index))"
   ]
  },
  {
   "cell_type": "code",
   "execution_count": 81,
   "id": "5d1656d4-1961-4c93-985e-67efe517eb0b",
   "metadata": {
    "tags": []
   },
   "outputs": [],
   "source": [
    "# the shrunk dataframe with only unique sample mass values and the corresponding timestamp is stored \n",
    "dfs3 = dfs2.loc[Indices][['mass','datetime']]\n",
    "dfs3 = dfs3.reset_index()\n",
    "dfs3 = dfs3.drop(columns='index')"
   ]
  },
  {
   "cell_type": "code",
   "execution_count": 85,
   "id": "87930c3f-9621-48a4-931b-e7c1e7b8e901",
   "metadata": {
    "collapsed": true,
    "jupyter": {
     "outputs_hidden": true
    },
    "tags": []
   },
   "outputs": [
    {
     "name": "stderr",
     "output_type": "stream",
     "text": [
      "<ipython-input-85-febd1658eb32>:5: SettingWithCopyWarning: \n",
      "A value is trying to be set on a copy of a slice from a DataFrame\n",
      "\n",
      "See the caveats in the documentation: https://pandas.pydata.org/pandas-docs/stable/user_guide/indexing.html#returning-a-view-versus-a-copy\n",
      "  dfs3['datetime_data'][i] = datetime.strptime(k,'%d.%m.%Y %H:%M:%S')\n"
     ]
    }
   ],
   "source": [
    "# the date and time data as string is converted using the datetime function with the correct format\n",
    "from datetime import datetime\n",
    "\n",
    "dfs3['datetime_data'] = np.zeros(len(dfs3))\n",
    "for i,k in enumerate(dfs3['datetime']):\n",
    "    dfs3['datetime_data'][i] = datetime.strptime(k,'%d.%m.%Y %H:%M:%S')"
   ]
  },
  {
   "cell_type": "code",
   "execution_count": 87,
   "id": "ae9baa7c-4512-44e6-ad37-327254550e63",
   "metadata": {},
   "outputs": [],
   "source": [
    "# the elapsed time since the beginning of the experiments is stored\n",
    "dfs3['delta_t']=dfs3['datetime_data']-dfs3['datetime_data'][0]"
   ]
  },
  {
   "cell_type": "code",
   "execution_count": 102,
   "id": "f0c3db90-d44b-4333-ab50-afe95e6fdba8",
   "metadata": {},
   "outputs": [],
   "source": [
    "# the timestamps are dropped from the dataframe as they are irrelevant\n",
    "dfs3 = dfs3.drop(columns=['datetime','datetime_data'])"
   ]
  },
  {
   "cell_type": "code",
   "execution_count": 89,
   "id": "5019eebf-3675-4a77-afaa-928bbca8b45d",
   "metadata": {},
   "outputs": [],
   "source": [
    "# the deltat data is to be converted into a numpy array due to problem with the datetime format\n",
    "Delta_t = dfs3['delta_t']\n",
    "Delta_t1 = []\n",
    "for i,k in enumerate(Delta_t):\n",
    "    Delta_t1.append(k.days*24*3600+k.seconds)"
   ]
  },
  {
   "cell_type": "code",
   "execution_count": 105,
   "id": "6d9618a2-87fc-4425-8ec9-c2aa44d79ebf",
   "metadata": {},
   "outputs": [
    {
     "data": {
      "text/plain": [
       "[<matplotlib.lines.Line2D at 0x26b1142adf0>]"
      ]
     },
     "execution_count": 105,
     "metadata": {},
     "output_type": "execute_result"
    },
    {
     "data": {
      "image/png": "[encoded data removed]",
      "text/plain": [
       "<Figure size 432x288 with 1 Axes>"
      ]
     },
     "metadata": {
      "needs_background": "light"
     },
     "output_type": "display_data"
    }
   ],
   "source": [
    "# the sample mass is plotted over time showing the drying rate\n",
    "plt.plot(np.array(Delta_t1)/3600,dfs3['mass'])"
   ]
  },
  {
   "cell_type": "code",
   "execution_count": 98,
   "id": "4d5eb304-3d10-400a-8a58-190ddf28b601",
   "metadata": {
    "tags": []
   },
   "outputs": [],
   "source": [
    "# shrinkage is measured optically allowing and the data is recorded as \"excel\" file\n",
    "# these data are imported into a dataframe\n",
    "path = \"C:\\Arbeit\\MikrowellenTr\\Schwindung\\\\NEL 05 05 06 05.xlsx\"\n",
    "df = pd.read_excel(path,names=['T','X_l','X_m','X_r','X_T','Y_l1','Y_l2','Y_r1','Y_r2'])"
   ]
  },
  {
   "cell_type": "code",
   "execution_count": 106,
   "id": "576fe2f9-f85b-4f50-9449-f29015f5279c",
   "metadata": {},
   "outputs": [
    {
     "data": {
      "image/png": "[encoded data removed]",
      "text/plain": [
       "<Figure size 432x288 with 1 Axes>"
      ]
     },
     "metadata": {
      "needs_background": "light"
     },
     "output_type": "display_data"
    }
   ],
   "source": [
    "# the shrinkage data is plotted as follows illustrating how shrinkage is limited only to the early stages of drying\n",
    "for i in range(1,len(df.columns)):\n",
    "    plt.plot(df[df.columns[0]]/3600,(df[df.columns[i]][0]-df[df.columns[i]])/df[df.columns[i]][0])"
   ]
  },
  {
   "cell_type": "code",
   "execution_count": 107,
   "id": "23f82a14-f638-416d-a4d3-213327c54c64",
   "metadata": {},
   "outputs": [
    {
     "data": {
      "text/html": [
       "<div>\n",
       "<style scoped>\n",
       "    .dataframe tbody tr th:only-of-type {\n",
       "        vertical-align: middle;\n",
       "    }\n",
       "\n",
       "    .dataframe tbody tr th {\n",
       "        vertical-align: top;\n",
       "    }\n",
       "\n",
       "    .dataframe thead th {\n",
       "        text-align: right;\n",
       "    }\n",
       "</style>\n",
       "<table border=\"1\" class=\"dataframe\">\n",
       "  <thead>\n",
       "    <tr style=\"text-align: right;\">\n",
       "      <th></th>\n",
       "      <th>T</th>\n",
       "      <th>X_l</th>\n",
       "      <th>X_m</th>\n",
       "      <th>X_r</th>\n",
       "      <th>X_T</th>\n",
       "      <th>Y_l1</th>\n",
       "      <th>Y_l2</th>\n",
       "      <th>Y_r1</th>\n",
       "      <th>Y_r2</th>\n",
       "    </tr>\n",
       "  </thead>\n",
       "  <tbody>\n",
       "    <tr>\n",
       "      <th>0</th>\n",
       "      <td>0.000000</td>\n",
       "      <td>17.695664</td>\n",
       "      <td>18.662709</td>\n",
       "      <td>18.770872</td>\n",
       "      <td>57.462505</td>\n",
       "      <td>12.503348</td>\n",
       "      <td>10.065756</td>\n",
       "      <td>11.559623</td>\n",
       "      <td>11.307485</td>\n",
       "    </tr>\n",
       "    <tr>\n",
       "      <th>1</th>\n",
       "      <td>3467.195567</td>\n",
       "      <td>17.541658</td>\n",
       "      <td>18.495913</td>\n",
       "      <td>18.593798</td>\n",
       "      <td>56.932580</td>\n",
       "      <td>12.399488</td>\n",
       "      <td>9.992754</td>\n",
       "      <td>11.440216</td>\n",
       "      <td>11.206540</td>\n",
       "    </tr>\n",
       "    <tr>\n",
       "      <th>2</th>\n",
       "      <td>5267.194127</td>\n",
       "      <td>17.462560</td>\n",
       "      <td>18.417200</td>\n",
       "      <td>18.513830</td>\n",
       "      <td>56.681869</td>\n",
       "      <td>12.343355</td>\n",
       "      <td>9.952510</td>\n",
       "      <td>11.402119</td>\n",
       "      <td>11.178170</td>\n",
       "    </tr>\n",
       "    <tr>\n",
       "      <th>3</th>\n",
       "      <td>7067.192687</td>\n",
       "      <td>17.384050</td>\n",
       "      <td>18.336242</td>\n",
       "      <td>18.437862</td>\n",
       "      <td>56.442914</td>\n",
       "      <td>12.295928</td>\n",
       "      <td>9.911938</td>\n",
       "      <td>11.365624</td>\n",
       "      <td>11.139896</td>\n",
       "    </tr>\n",
       "    <tr>\n",
       "      <th>4</th>\n",
       "      <td>8867.191247</td>\n",
       "      <td>17.301037</td>\n",
       "      <td>18.252161</td>\n",
       "      <td>18.359435</td>\n",
       "      <td>56.193967</td>\n",
       "      <td>12.246795</td>\n",
       "      <td>9.867162</td>\n",
       "      <td>11.327067</td>\n",
       "      <td>11.096779</td>\n",
       "    </tr>\n",
       "  </tbody>\n",
       "</table>\n",
       "</div>"
      ],
      "text/plain": [
       "             T        X_l        X_m        X_r        X_T       Y_l1  \\\n",
       "0     0.000000  17.695664  18.662709  18.770872  57.462505  12.503348   \n",
       "1  3467.195567  17.541658  18.495913  18.593798  56.932580  12.399488   \n",
       "2  5267.194127  17.462560  18.417200  18.513830  56.681869  12.343355   \n",
       "3  7067.192687  17.384050  18.336242  18.437862  56.442914  12.295928   \n",
       "4  8867.191247  17.301037  18.252161  18.359435  56.193967  12.246795   \n",
       "\n",
       "        Y_l2       Y_r1       Y_r2  \n",
       "0  10.065756  11.559623  11.307485  \n",
       "1   9.992754  11.440216  11.206540  \n",
       "2   9.952510  11.402119  11.178170  \n",
       "3   9.911938  11.365624  11.139896  \n",
       "4   9.867162  11.327067  11.096779  "
      ]
     },
     "execution_count": 107,
     "metadata": {},
     "output_type": "execute_result"
    }
   ],
   "source": [
    "df.head()"
   ]
  }
 ],
 "metadata": {
  "kernelspec": {
   "display_name": "Python 3",
   "language": "python",
   "name": "python3"
  },
  "language_info": {
   "codemirror_mode": {
    "name": "ipython",
    "version": 3
   },
   "file_extension": ".py",
   "mimetype": "text/x-python",
   "name": "python",
   "nbconvert_exporter": "python",
   "pygments_lexer": "ipython3",
   "version": "3.8.8"
  }
 },
 "nbformat": 4,
 "nbformat_minor": 5
}
