{
 "cells": [
  {
   "cell_type": "code",
   "execution_count": 2,
   "id": "80ee14b5-9c43-4e61-b137-b2321c7c189f",
   "metadata": {},
   "outputs": [],
   "source": [
    "import sys\n",
    "import pandas as pd\n",
    "import numpy as np\n",
    "import matplotlib.pyplot as plt"
   ]
  },
  {
   "cell_type": "code",
   "execution_count": 3,
   "id": "833df963-b2fb-4fc2-b33e-e2f459328e12",
   "metadata": {},
   "outputs": [],
   "source": [
    "# the .txt files which store the data for the online recording of the sample mass\n",
    "path1 = \"C:\\Arbeit\\MikrowellenTr\\Schwindung\\\\test\""
   ]
  },
  {
   "cell_type": "code",
   "execution_count": 4,
   "id": "0f797d77-1c18-40a3-924c-c742265cadde",
   "metadata": {},
   "outputs": [],
   "source": [
    "# multiple recordings in the span of one experiment are combined into 1 dataframe\n",
    "dfs = []\n",
    "for i in range(3,11):\n",
    "    path2 = path1+str(i)+\".csv\"\n",
    "    dfs.append(pd.read_csv((path2),sep=\"\\t\",names=['date', 'time', 'mass']))\n",
    "dfs1 = pd.concat(dfs,ignore_index=True)"
   ]
  },
  {
   "cell_type": "code",
   "execution_count": 5,
   "id": "3e855834-fcf2-4ccb-9ccf-d48ceccbe7d1",
   "metadata": {},
   "outputs": [],
   "source": [
    "# the data for the sample mass is converted from its original \"string\" format to \"float\"\n",
    "# German numbers are stored with a \"comma (,)\" as the decimal separator and as \"string\"\n",
    "# the following loop converts said readings into float\n",
    "for i,k in enumerate(dfs1['mass']):\n",
    "    dfs1['mass'][i] = float(k[0:-3]+'.'+k[-2]+k[-1])"
   ]
  },
  {
   "cell_type": "code",
   "execution_count": 6,
   "id": "35cee294-072e-4a26-b520-d0a2fd296fd2",
   "metadata": {},
   "outputs": [],
   "source": [
    "# several readings are erroneous as the recording started before the sample was placed on the scale\n",
    "# these values are dropped from the dataframe and the index is reset\n",
    "dfs2 = dfs1.drop(index=dfs1['mass'][dfs1['mass']<1].index)\n",
    "dfs2 = dfs2.reset_index()\n",
    "dfs2 = dfs2.drop(columns='index')"
   ]
  },
  {
   "cell_type": "code",
   "execution_count": 7,
   "id": "e92da352-5fe1-4b8f-b02d-74c4d2e3a2d6",
   "metadata": {},
   "outputs": [
    {
     "data": {
      "text/plain": [
       "221057"
      ]
     },
     "execution_count": 7,
     "metadata": {},
     "output_type": "execute_result"
    }
   ],
   "source": [
    "len(dfs2)"
   ]
  },
  {
   "cell_type": "code",
   "execution_count": 8,
   "id": "333b3891-73e9-4d77-930f-3bf78d4e23a4",
   "metadata": {},
   "outputs": [],
   "source": [
    "# the readings are recorded with the corresponding date & time stamps\n",
    "# these are combined to represent the unique timestamp for each reading\n",
    "dfs2['datetime'] = dfs2['date']+' '+dfs2['time']"
   ]
  },
  {
   "cell_type": "code",
   "execution_count": 9,
   "id": "ed089b6e-bbe3-4360-b2b1-867d2a0dd55f",
   "metadata": {},
   "outputs": [],
   "source": [
    "# the original dataframe is too large as the sample mass is recorded many times every second\n",
    "# in the following section only every unique reading of the sample mass is stored\n",
    "# the final timestamp for every unique reading will be stored using the maximum index for each unique reading\n",
    "mass_sorted = sorted(np.unique(dfs2['mass']),reverse=True)\n",
    "Indices = []\n",
    "for i,k in enumerate(mass_sorted):\n",
    "    Indices.append(np.max(dfs2['mass'][dfs2['mass']==k].index))"
   ]
  },
  {
   "cell_type": "code",
   "execution_count": 10,
   "id": "5d1656d4-1961-4c93-985e-67efe517eb0b",
   "metadata": {
    "tags": []
   },
   "outputs": [],
   "source": [
    "# the shrunk dataframe with only unique sample mass values and the corresponding timestamp is stored \n",
    "dfs3 = dfs2.loc[Indices][['mass','datetime']]\n",
    "dfs3 = dfs3.reset_index()\n",
    "dfs3 = dfs3.drop(columns='index')"
   ]
  },
  {
   "cell_type": "code",
   "execution_count": 11,
   "id": "87930c3f-9621-48a4-931b-e7c1e7b8e901",
   "metadata": {
    "tags": []
   },
   "outputs": [
    {
     "name": "stderr",
     "output_type": "stream",
     "text": [
      "<ipython-input-11-64ae1c61572b>:6: SettingWithCopyWarning: \n",
      "A value is trying to be set on a copy of a slice from a DataFrame\n",
      "\n",
      "See the caveats in the documentation: https://pandas.pydata.org/pandas-docs/stable/user_guide/indexing.html#returning-a-view-versus-a-copy\n",
      "  dfs3['datetime_data'][i] = datetime.strptime(k,'%d.%m.%Y %H:%M:%S')\n"
     ]
    }
   ],
   "source": [
    "# the date and time data as string is converted using the datetime function with the correct format\n",
    "from datetime import datetime\n",
    "\n",
    "dfs3['datetime_data'] = np.zeros(len(dfs3))\n",
    "for i,k in enumerate(dfs3['datetime']):\n",
    "    dfs3['datetime_data'][i] = datetime.strptime(k,'%d.%m.%Y %H:%M:%S')"
   ]
  },
  {
   "cell_type": "code",
   "execution_count": 12,
   "id": "ae9baa7c-4512-44e6-ad37-327254550e63",
   "metadata": {},
   "outputs": [],
   "source": [
    "# the elapsed time since the beginning of the experiments is stored\n",
    "dfs3['delta_t']=dfs3['datetime_data']-dfs3['datetime_data'][0]"
   ]
  },
  {
   "cell_type": "code",
   "execution_count": 13,
   "id": "f0c3db90-d44b-4333-ab50-afe95e6fdba8",
   "metadata": {},
   "outputs": [],
   "source": [
    "# the timestamps are dropped from the dataframe as they are irrelevant\n",
    "dfs3 = dfs3.drop(columns=['datetime','datetime_data'])"
   ]
  },
  {
   "cell_type": "code",
   "execution_count": 14,
   "id": "5019eebf-3675-4a77-afaa-928bbca8b45d",
   "metadata": {},
   "outputs": [],
   "source": [
    "# the deltat data is to be converted into a numpy array due to problem with the datetime format\n",
    "Delta_t = dfs3['delta_t']\n",
    "Delta_t1 = []\n",
    "for i,k in enumerate(Delta_t):\n",
    "    Delta_t1.append(k.days*24*3600+k.seconds)"
   ]
  },
  {
   "cell_type": "code",
   "execution_count": 15,
   "id": "6d9618a2-87fc-4425-8ec9-c2aa44d79ebf",
   "metadata": {},
   "outputs": [
    {
     "data": {
      "text/plain": [
       "Text(0.5, 0, 'Sample mass (kg)')"
      ]
     },
     "execution_count": 15,
     "metadata": {},
     "output_type": "execute_result"
    },
    {
     "data": {
      "image/png": "[encoded data removed]",
      "text/plain": [
       "<Figure size 432x288 with 1 Axes>"
      ]
     },
     "metadata": {
      "needs_background": "light"
     },
     "output_type": "display_data"
    }
   ],
   "source": [
    "# the sample mass is plotted over time showing the drying rate\n",
    "plt.plot(np.array(Delta_t1)/3600,dfs3['mass'])\n",
    "plt.ylabel(\"Time (h)\")\n",
    "plt.xlabel(\"Sample mass (kg)\")"
   ]
  },
  {
   "cell_type": "code",
   "execution_count": 16,
   "id": "4d5eb304-3d10-400a-8a58-190ddf28b601",
   "metadata": {
    "tags": []
   },
   "outputs": [],
   "source": [
    "# shrinkage is measured optically allowing and the data is recorded as \"excel\" file\n",
    "# these data are imported into a dataframe\n",
    "path = \"C:\\Arbeit\\MikrowellenTr\\Schwindung\\\\NEL 05 05 06 05.xlsx\"\n",
    "df = pd.read_excel(path,names=['T','X_l','X_m','X_r','X_T','Y_l1','Y_l2','Y_r1','Y_r2'])"
   ]
  },
  {
   "cell_type": "code",
   "execution_count": 17,
   "id": "576fe2f9-f85b-4f50-9449-f29015f5279c",
   "metadata": {},
   "outputs": [
    {
     "data": {
      "text/plain": [
       "Text(0, 0.5, 'Local shrinkage (%)')"
      ]
     },
     "execution_count": 17,
     "metadata": {},
     "output_type": "execute_result"
    },
    {
     "data": {
      "image/png": "[encoded data removed]",
      "text/plain": [
       "<Figure size 432x288 with 1 Axes>"
      ]
     },
     "metadata": {
      "needs_background": "light"
     },
     "output_type": "display_data"
    }
   ],
   "source": [
    "# the shrinkage data is plotted as follows illustrating how shrinkage is limited only to the early stages of drying\n",
    "for i in range(1,len(df.columns)):\n",
    "    plt.plot(df[df.columns[0]]/3600,(df[df.columns[i]][0]-df[df.columns[i]])/df[df.columns[i]][0])\n",
    "plt.xlabel(\"Time (s)\")\n",
    "plt.ylabel(\"Local shrinkage (%)\")"
   ]
  }
 ],
 "metadata": {
  "kernelspec": {
   "display_name": "Python 3",
   "language": "python",
   "name": "python3"
  },
  "language_info": {
   "codemirror_mode": {
    "name": "ipython",
    "version": 3
   },
   "file_extension": ".py",
   "mimetype": "text/x-python",
   "name": "python",
   "nbconvert_exporter": "python",
   "pygments_lexer": "ipython3",
   "version": "3.8.8"
  }
 },
 "nbformat": 4,
 "nbformat_minor": 5
}
